{
  "nbformat": 4,
  "nbformat_minor": 0,
  "metadata": {
    "colab": {
      "provenance": [],
      "authorship_tag": "ABX9TyOXf1pVRM0sNfT6c2LVk82M",
      "include_colab_link": true
    },
    "kernelspec": {
      "name": "python3",
      "display_name": "Python 3"
    },
    "language_info": {
      "name": "python"
    }
  },
  "cells": [
    {
      "cell_type": "markdown",
      "metadata": {
        "id": "view-in-github",
        "colab_type": "text"
      },
      "source": [
        "<a href=\"https://colab.research.google.com/github/biranchi2018/PyTorchBasics/blob/main/1.PyTorch_Basics.ipynb\" target=\"_parent\"><img src=\"https://colab.research.google.com/assets/colab-badge.svg\" alt=\"Open In Colab\"/></a>"
      ]
    },
    {
      "cell_type": "markdown",
      "source": [
        "### Getting started with PyTorch\n",
        "\n",
        "\n",
        "\n",
        "https://pytorch.org/tutorials/beginner/basics/tensorqs_tutorial.html\n",
        "\n",
        "https://pytorch.org/tutorials/beginner/basics/quickstart_tutorial.html\n",
        "\n",
        "https://developers.redhat.com/learn/openshift-data-science/how-create-pytorch-model/build-train-and-run-your-pytorch-model\n",
        "\n",
        "https://machinelearningmastery.com/save-and-load-your-pytorch-models/\n"
      ],
      "metadata": {
        "id": "f6iy0fSm6FQW"
      }
    },
    {
      "cell_type": "code",
      "source": [
        "!pip install matplotlib -q"
      ],
      "metadata": {
        "id": "L_-T6amD5-bX"
      },
      "execution_count": null,
      "outputs": []
    },
    {
      "cell_type": "code",
      "source": [
        "import matplotlib.pyplot as plt\n",
        "import numpy as np\n",
        "import torch\n",
        "from torch import nn\n",
        "# from torch.autograd import Variable"
      ],
      "metadata": {
        "id": "zTZ47evF6All"
      },
      "execution_count": 2,
      "outputs": []
    },
    {
      "cell_type": "markdown",
      "source": [
        "### Preparing the Data"
      ],
      "metadata": {
        "id": "UooH4NSj_QcN"
      }
    },
    {
      "cell_type": "code",
      "source": [
        "x_train = np.array([[3.3], [4.4], [5.5], [6.71], [6.93], [4.168],\n",
        "                    [9.779], [6.182], [7.59], [2.167], [7.042],\n",
        "                    [10.791], [5.313], [7.997], [3.1]], dtype=np.float32)\n",
        "\n",
        "y_train = np.array([[1.7], [2.76], [2.09], [3.19], [1.694], [1.573],\n",
        "                    [3.366], [2.596], [2.53], [1.221], [2.827],\n",
        "                    [3.465], [1.65], [2.904], [1.3]], dtype=np.float32)\n",
        "\n",
        "\n",
        "x_train = torch.from_numpy(x_train)\n",
        "\n",
        "y_train = torch.from_numpy(y_train)\n"
      ],
      "metadata": {
        "id": "TUl-1zLv6evJ"
      },
      "execution_count": 45,
      "outputs": []
    },
    {
      "cell_type": "code",
      "source": [
        "type(x_train)"
      ],
      "metadata": {
        "colab": {
          "base_uri": "https://localhost:8080/"
        },
        "id": "sol9BU2u6g51",
        "outputId": "86164bfe-c582-4d2d-fa94-f22fafbb267a"
      },
      "execution_count": 46,
      "outputs": [
        {
          "output_type": "execute_result",
          "data": {
            "text/plain": [
              "torch.Tensor"
            ]
          },
          "metadata": {},
          "execution_count": 46
        }
      ]
    },
    {
      "cell_type": "code",
      "source": [
        "x_train.shape"
      ],
      "metadata": {
        "colab": {
          "base_uri": "https://localhost:8080/"
        },
        "id": "92ADpgRp6kUY",
        "outputId": "2003c424-d686-44f2-a85a-fe42d51f38bd"
      },
      "execution_count": 5,
      "outputs": [
        {
          "output_type": "execute_result",
          "data": {
            "text/plain": [
              "torch.Size([15, 1])"
            ]
          },
          "metadata": {},
          "execution_count": 5
        }
      ]
    },
    {
      "cell_type": "code",
      "source": [
        "x_train[:5]"
      ],
      "metadata": {
        "colab": {
          "base_uri": "https://localhost:8080/"
        },
        "id": "A0tPIiIp6tKV",
        "outputId": "109becc6-1abf-4672-af2b-4a5f9cefdb65"
      },
      "execution_count": 6,
      "outputs": [
        {
          "output_type": "execute_result",
          "data": {
            "text/plain": [
              "tensor([[3.3000],\n",
              "        [4.4000],\n",
              "        [5.5000],\n",
              "        [6.7100],\n",
              "        [6.9300]])"
            ]
          },
          "metadata": {},
          "execution_count": 6
        }
      ]
    },
    {
      "cell_type": "code",
      "source": [],
      "metadata": {
        "id": "RDNTtvRZAz6R"
      },
      "execution_count": null,
      "outputs": []
    },
    {
      "cell_type": "markdown",
      "source": [
        "### Creating a LinearRegression Model"
      ],
      "metadata": {
        "id": "NZg180x8_Mrj"
      }
    },
    {
      "cell_type": "code",
      "source": [
        "# Linear Regression Model\n",
        "class linearRegression(nn.Module):\n",
        "    def __init__(self):\n",
        "        super(linearRegression, self).__init__()\n",
        "        self.linear = nn.Linear(1, 1)  # input and output is 1 dimension\n",
        "\n",
        "    def forward(self, x):\n",
        "        out = self.linear(x)\n",
        "        return out\n",
        "\n",
        "\n",
        "model = linearRegression()\n",
        "# 定义loss和优化函数\n",
        "criterion = nn.MSELoss()\n",
        "optimizer = torch.optim.SGD(model.parameters(), lr=1e-4)"
      ],
      "metadata": {
        "id": "VWlJUW3C61_s"
      },
      "execution_count": 7,
      "outputs": []
    },
    {
      "cell_type": "code",
      "source": [
        "model"
      ],
      "metadata": {
        "colab": {
          "base_uri": "https://localhost:8080/"
        },
        "id": "5y6YcmbO67ip",
        "outputId": "3e16fd68-3eee-4744-ea3e-50c14208b4fc"
      },
      "execution_count": 8,
      "outputs": [
        {
          "output_type": "execute_result",
          "data": {
            "text/plain": [
              "linearRegression(\n",
              "  (linear): Linear(in_features=1, out_features=1, bias=True)\n",
              ")"
            ]
          },
          "metadata": {},
          "execution_count": 8
        }
      ]
    },
    {
      "cell_type": "code",
      "source": [
        "dir(model)"
      ],
      "metadata": {
        "colab": {
          "base_uri": "https://localhost:8080/"
        },
        "id": "yxbolm457ZMv",
        "outputId": "9b91e274-5883-4bdb-e8e7-28fb7f029208"
      },
      "execution_count": 14,
      "outputs": [
        {
          "output_type": "execute_result",
          "data": {
            "text/plain": [
              "['T_destination',\n",
              " '__annotations__',\n",
              " '__call__',\n",
              " '__class__',\n",
              " '__delattr__',\n",
              " '__dict__',\n",
              " '__dir__',\n",
              " '__doc__',\n",
              " '__eq__',\n",
              " '__format__',\n",
              " '__ge__',\n",
              " '__getattr__',\n",
              " '__getattribute__',\n",
              " '__gt__',\n",
              " '__hash__',\n",
              " '__init__',\n",
              " '__init_subclass__',\n",
              " '__le__',\n",
              " '__lt__',\n",
              " '__module__',\n",
              " '__ne__',\n",
              " '__new__',\n",
              " '__reduce__',\n",
              " '__reduce_ex__',\n",
              " '__repr__',\n",
              " '__setattr__',\n",
              " '__setstate__',\n",
              " '__sizeof__',\n",
              " '__str__',\n",
              " '__subclasshook__',\n",
              " '__weakref__',\n",
              " '_apply',\n",
              " '_backward_hooks',\n",
              " '_backward_pre_hooks',\n",
              " '_buffers',\n",
              " '_call_impl',\n",
              " '_forward_hooks',\n",
              " '_forward_hooks_with_kwargs',\n",
              " '_forward_pre_hooks',\n",
              " '_forward_pre_hooks_with_kwargs',\n",
              " '_get_backward_hooks',\n",
              " '_get_backward_pre_hooks',\n",
              " '_get_name',\n",
              " '_is_full_backward_hook',\n",
              " '_load_from_state_dict',\n",
              " '_load_state_dict_post_hooks',\n",
              " '_load_state_dict_pre_hooks',\n",
              " '_maybe_warn_non_full_backward_hook',\n",
              " '_modules',\n",
              " '_named_members',\n",
              " '_non_persistent_buffers_set',\n",
              " '_parameters',\n",
              " '_register_load_state_dict_pre_hook',\n",
              " '_register_state_dict_hook',\n",
              " '_replicate_for_data_parallel',\n",
              " '_save_to_state_dict',\n",
              " '_slow_forward',\n",
              " '_state_dict_hooks',\n",
              " '_state_dict_pre_hooks',\n",
              " '_version',\n",
              " 'add_module',\n",
              " 'apply',\n",
              " 'bfloat16',\n",
              " 'buffers',\n",
              " 'call_super_init',\n",
              " 'children',\n",
              " 'cpu',\n",
              " 'cuda',\n",
              " 'double',\n",
              " 'dump_patches',\n",
              " 'eval',\n",
              " 'extra_repr',\n",
              " 'float',\n",
              " 'forward',\n",
              " 'get_buffer',\n",
              " 'get_extra_state',\n",
              " 'get_parameter',\n",
              " 'get_submodule',\n",
              " 'half',\n",
              " 'ipu',\n",
              " 'linear',\n",
              " 'load_state_dict',\n",
              " 'modules',\n",
              " 'named_buffers',\n",
              " 'named_children',\n",
              " 'named_modules',\n",
              " 'named_parameters',\n",
              " 'parameters',\n",
              " 'register_backward_hook',\n",
              " 'register_buffer',\n",
              " 'register_forward_hook',\n",
              " 'register_forward_pre_hook',\n",
              " 'register_full_backward_hook',\n",
              " 'register_full_backward_pre_hook',\n",
              " 'register_load_state_dict_post_hook',\n",
              " 'register_module',\n",
              " 'register_parameter',\n",
              " 'register_state_dict_pre_hook',\n",
              " 'requires_grad_',\n",
              " 'set_extra_state',\n",
              " 'share_memory',\n",
              " 'state_dict',\n",
              " 'to',\n",
              " 'to_empty',\n",
              " 'train',\n",
              " 'training',\n",
              " 'type',\n",
              " 'xpu',\n",
              " 'zero_grad']"
            ]
          },
          "metadata": {},
          "execution_count": 14
        }
      ]
    },
    {
      "cell_type": "code",
      "source": [
        "# help(model)"
      ],
      "metadata": {
        "id": "7RpG0Jzo7vtl"
      },
      "execution_count": 18,
      "outputs": []
    },
    {
      "cell_type": "code",
      "source": [],
      "metadata": {
        "id": "i7XGREo17vwn"
      },
      "execution_count": null,
      "outputs": []
    },
    {
      "cell_type": "code",
      "source": [
        "model.named_parameters()"
      ],
      "metadata": {
        "colab": {
          "base_uri": "https://localhost:8080/"
        },
        "id": "AOjTkpZg7gcv",
        "outputId": "02d28a57-6d5a-42b5-ff63-b8bb8bdcca62"
      },
      "execution_count": 15,
      "outputs": [
        {
          "output_type": "execute_result",
          "data": {
            "text/plain": [
              "<generator object Module.named_parameters at 0x7f677e62f6f0>"
            ]
          },
          "metadata": {},
          "execution_count": 15
        }
      ]
    },
    {
      "cell_type": "code",
      "source": [
        "for key in model.named_parameters():\n",
        "  print(key)"
      ],
      "metadata": {
        "colab": {
          "base_uri": "https://localhost:8080/"
        },
        "id": "3TZkLujR7je5",
        "outputId": "a4fbb7e7-c386-471a-c4f7-e7eeb13adb8e"
      },
      "execution_count": 16,
      "outputs": [
        {
          "output_type": "stream",
          "name": "stdout",
          "text": [
            "('linear.weight', Parameter containing:\n",
            "tensor([[0.7047]], requires_grad=True))\n",
            "('linear.bias', Parameter containing:\n",
            "tensor([-0.1337], requires_grad=True))\n"
          ]
        }
      ]
    },
    {
      "cell_type": "code",
      "source": [],
      "metadata": {
        "id": "q4cl7ajY7th4"
      },
      "execution_count": null,
      "outputs": []
    },
    {
      "cell_type": "code",
      "source": [
        "model.parameters()"
      ],
      "metadata": {
        "colab": {
          "base_uri": "https://localhost:8080/"
        },
        "id": "InFTEJPA7MCv",
        "outputId": "9c56f1b0-d01d-46fa-a2e1-11119bf1b55e"
      },
      "execution_count": 11,
      "outputs": [
        {
          "output_type": "execute_result",
          "data": {
            "text/plain": [
              "<generator object Module.parameters at 0x7f677e732500>"
            ]
          },
          "metadata": {},
          "execution_count": 11
        }
      ]
    },
    {
      "cell_type": "code",
      "source": [
        "for key in model.parameters():\n",
        "  print(key)"
      ],
      "metadata": {
        "colab": {
          "base_uri": "https://localhost:8080/"
        },
        "id": "sbSb54mK7N4y",
        "outputId": "5cda45ca-f558-46ed-fa7a-e1bd8a307aad"
      },
      "execution_count": 13,
      "outputs": [
        {
          "output_type": "stream",
          "name": "stdout",
          "text": [
            "Parameter containing:\n",
            "tensor([[0.7047]], requires_grad=True)\n",
            "Parameter containing:\n",
            "tensor([-0.1337], requires_grad=True)\n"
          ]
        }
      ]
    },
    {
      "cell_type": "code",
      "source": [],
      "metadata": {
        "id": "qw2BUOJr8LR7"
      },
      "execution_count": null,
      "outputs": []
    },
    {
      "cell_type": "code",
      "source": [
        "model.get_parameter('linear.weight')"
      ],
      "metadata": {
        "colab": {
          "base_uri": "https://localhost:8080/"
        },
        "id": "Om5yuot38Y9N",
        "outputId": "e2b54fec-9e9b-4bc1-93f2-06f28330192e"
      },
      "execution_count": 19,
      "outputs": [
        {
          "output_type": "execute_result",
          "data": {
            "text/plain": [
              "Parameter containing:\n",
              "tensor([[0.7047]], requires_grad=True)"
            ]
          },
          "metadata": {},
          "execution_count": 19
        }
      ]
    },
    {
      "cell_type": "code",
      "source": [
        "model.get_parameter('linear.weight').detach().numpy()"
      ],
      "metadata": {
        "colab": {
          "base_uri": "https://localhost:8080/"
        },
        "id": "b3tSNNqj8ila",
        "outputId": "2dc3084a-ed9f-4e7c-fd93-36a3666e60da"
      },
      "execution_count": 22,
      "outputs": [
        {
          "output_type": "execute_result",
          "data": {
            "text/plain": [
              "array([[0.7046567]], dtype=float32)"
            ]
          },
          "metadata": {},
          "execution_count": 22
        }
      ]
    },
    {
      "cell_type": "code",
      "source": [
        "model.get_parameter('linear.weight').data.numpy()"
      ],
      "metadata": {
        "colab": {
          "base_uri": "https://localhost:8080/"
        },
        "id": "iyFB1Jd38py-",
        "outputId": "678bf957-dcb5-4119-ae55-72b73cd23abd"
      },
      "execution_count": 24,
      "outputs": [
        {
          "output_type": "execute_result",
          "data": {
            "text/plain": [
              "array([[0.7046567]], dtype=float32)"
            ]
          },
          "metadata": {},
          "execution_count": 24
        }
      ]
    },
    {
      "cell_type": "code",
      "source": [],
      "metadata": {
        "id": "7HDl9c0F87og"
      },
      "execution_count": null,
      "outputs": []
    },
    {
      "cell_type": "code",
      "source": [
        "model.get_parameter('linear.bias')"
      ],
      "metadata": {
        "colab": {
          "base_uri": "https://localhost:8080/"
        },
        "id": "eRb-SZyF8ZAM",
        "outputId": "ba2120cf-4551-46d8-ef17-3d197b793345"
      },
      "execution_count": 20,
      "outputs": [
        {
          "output_type": "execute_result",
          "data": {
            "text/plain": [
              "Parameter containing:\n",
              "tensor([-0.1337], requires_grad=True)"
            ]
          },
          "metadata": {},
          "execution_count": 20
        }
      ]
    },
    {
      "cell_type": "code",
      "source": [
        "model.get_parameter('linear.bias').detach().numpy()"
      ],
      "metadata": {
        "colab": {
          "base_uri": "https://localhost:8080/"
        },
        "id": "QUM5VvOx8ZDI",
        "outputId": "abeeecc1-06fb-4ad0-f2d0-c691460facee"
      },
      "execution_count": 23,
      "outputs": [
        {
          "output_type": "execute_result",
          "data": {
            "text/plain": [
              "array([-0.13368475], dtype=float32)"
            ]
          },
          "metadata": {},
          "execution_count": 23
        }
      ]
    },
    {
      "cell_type": "code",
      "source": [],
      "metadata": {
        "id": "q5QDtDW88iCo"
      },
      "execution_count": null,
      "outputs": []
    },
    {
      "cell_type": "code",
      "source": [
        "criterion"
      ],
      "metadata": {
        "colab": {
          "base_uri": "https://localhost:8080/"
        },
        "id": "UACnFhV867wO",
        "outputId": "592f5f02-b526-4e7d-bdd4-467513f68e21"
      },
      "execution_count": 9,
      "outputs": [
        {
          "output_type": "execute_result",
          "data": {
            "text/plain": [
              "MSELoss()"
            ]
          },
          "metadata": {},
          "execution_count": 9
        }
      ]
    },
    {
      "cell_type": "code",
      "source": [
        "optimizer"
      ],
      "metadata": {
        "colab": {
          "base_uri": "https://localhost:8080/"
        },
        "id": "t6bF6Gtn68R9",
        "outputId": "e3aed17d-47ab-4657-c7ed-ac04248ea0c5"
      },
      "execution_count": 10,
      "outputs": [
        {
          "output_type": "execute_result",
          "data": {
            "text/plain": [
              "SGD (\n",
              "Parameter Group 0\n",
              "    dampening: 0\n",
              "    differentiable: False\n",
              "    foreach: None\n",
              "    lr: 0.0001\n",
              "    maximize: False\n",
              "    momentum: 0\n",
              "    nesterov: False\n",
              "    weight_decay: 0\n",
              ")"
            ]
          },
          "metadata": {},
          "execution_count": 10
        }
      ]
    },
    {
      "cell_type": "code",
      "source": [],
      "metadata": {
        "id": "2VARl_-tAx7C"
      },
      "execution_count": null,
      "outputs": []
    },
    {
      "cell_type": "markdown",
      "source": [
        "### Model State before Training"
      ],
      "metadata": {
        "id": "HCRv_fil__ZY"
      }
    },
    {
      "cell_type": "code",
      "source": [
        "print(\"Accessing the model state_dict\")\n",
        "\n",
        "for values in model.state_dict():\n",
        "  print(values, \"\\t\",\n",
        "        model.state_dict()[values].numpy(), \"\\t\",\n",
        "        model.state_dict()[values].size())"
      ],
      "metadata": {
        "colab": {
          "base_uri": "https://localhost:8080/"
        },
        "id": "BEd_ydoz69Et",
        "outputId": "720c1a72-1708-4e1c-f7a3-0fd103aba174"
      },
      "execution_count": 56,
      "outputs": [
        {
          "output_type": "stream",
          "name": "stdout",
          "text": [
            "Accessing the model state_dict\n",
            "linear.weight \t [[0.38773337]] \t torch.Size([1, 1])\n",
            "linear.bias \t [-0.1411777] \t torch.Size([1])\n"
          ]
        }
      ]
    },
    {
      "cell_type": "code",
      "source": [],
      "metadata": {
        "id": "4DtqRpoBAB1u"
      },
      "execution_count": null,
      "outputs": []
    },
    {
      "cell_type": "markdown",
      "source": [
        "### Model Training"
      ],
      "metadata": {
        "id": "lrUgO8Gy_H5n"
      }
    },
    {
      "cell_type": "code",
      "source": [
        "# 开始训练\n",
        "num_epochs = 500\n",
        "for epoch in range(num_epochs):\n",
        "    inputs = x_train\n",
        "    target = y_train\n",
        "\n",
        "    # forward\n",
        "    out = model(inputs)\n",
        "    loss = criterion(out, target)\n",
        "    # backward\n",
        "    optimizer.zero_grad()\n",
        "    loss.backward()\n",
        "    optimizer.step()\n",
        "\n",
        "    if (epoch+1) % 20 == 0:\n",
        "        print(f'Epoch[{epoch+1}/{num_epochs}], loss: {loss.item():.6f}')\n"
      ],
      "metadata": {
        "colab": {
          "base_uri": "https://localhost:8080/"
        },
        "id": "MkZsfPGG5-kK",
        "outputId": "04d20df2-0963-4d49-ec1e-d95427c0b5e3"
      },
      "execution_count": 27,
      "outputs": [
        {
          "output_type": "stream",
          "name": "stdout",
          "text": [
            "Epoch[20/500], loss: 0.275050\n",
            "Epoch[40/500], loss: 0.274941\n",
            "Epoch[60/500], loss: 0.274832\n",
            "Epoch[80/500], loss: 0.274724\n",
            "Epoch[100/500], loss: 0.274615\n",
            "Epoch[120/500], loss: 0.274506\n",
            "Epoch[140/500], loss: 0.274398\n",
            "Epoch[160/500], loss: 0.274290\n",
            "Epoch[180/500], loss: 0.274181\n",
            "Epoch[200/500], loss: 0.274073\n",
            "Epoch[220/500], loss: 0.273965\n",
            "Epoch[240/500], loss: 0.273858\n",
            "Epoch[260/500], loss: 0.273750\n",
            "Epoch[280/500], loss: 0.273642\n",
            "Epoch[300/500], loss: 0.273535\n",
            "Epoch[320/500], loss: 0.273427\n",
            "Epoch[340/500], loss: 0.273320\n",
            "Epoch[360/500], loss: 0.273213\n",
            "Epoch[380/500], loss: 0.273106\n",
            "Epoch[400/500], loss: 0.272999\n",
            "Epoch[420/500], loss: 0.272892\n",
            "Epoch[440/500], loss: 0.272785\n",
            "Epoch[460/500], loss: 0.272678\n",
            "Epoch[480/500], loss: 0.272572\n",
            "Epoch[500/500], loss: 0.272465\n"
          ]
        }
      ]
    },
    {
      "cell_type": "code",
      "source": [
        "model.eval()"
      ],
      "metadata": {
        "colab": {
          "base_uri": "https://localhost:8080/"
        },
        "id": "33YOVmAf66ix",
        "outputId": "b23eb858-0cb3-4cc2-94de-db590dbc0b5f"
      },
      "execution_count": 28,
      "outputs": [
        {
          "output_type": "execute_result",
          "data": {
            "text/plain": [
              "linearRegression(\n",
              "  (linear): Linear(in_features=1, out_features=1, bias=True)\n",
              ")"
            ]
          },
          "metadata": {},
          "execution_count": 28
        }
      ]
    },
    {
      "cell_type": "markdown",
      "source": [
        "### Model State after Training"
      ],
      "metadata": {
        "id": "hTfN27j5_3O1"
      }
    },
    {
      "cell_type": "code",
      "source": [
        "print(\"Accessing the model state_dict\")\n",
        "\n",
        "for values in model.state_dict():\n",
        "  print(values, \"\\t\",\n",
        "        model.state_dict()[values].numpy(), \"\\t\",\n",
        "        model.state_dict()[values].size())"
      ],
      "metadata": {
        "colab": {
          "base_uri": "https://localhost:8080/"
        },
        "id": "tMkZvqAk_6cx",
        "outputId": "d26204fe-775d-4393-adeb-1d170608b7d6"
      },
      "execution_count": 57,
      "outputs": [
        {
          "output_type": "stream",
          "name": "stdout",
          "text": [
            "Accessing the model state_dict\n",
            "linear.weight \t [[0.38773337]] \t torch.Size([1, 1])\n",
            "linear.bias \t [-0.1411777] \t torch.Size([1])\n"
          ]
        }
      ]
    },
    {
      "cell_type": "code",
      "source": [],
      "metadata": {
        "id": "16BK9LXZAmsQ"
      },
      "execution_count": null,
      "outputs": []
    },
    {
      "cell_type": "markdown",
      "source": [
        "### Model Predictions"
      ],
      "metadata": {
        "id": "J2S1Y3SbAkCw"
      }
    },
    {
      "cell_type": "code",
      "source": [
        "with torch.no_grad():\n",
        "    predict = model(x_train)\n",
        "predict = predict.data.numpy()\n",
        "\n",
        "fig = plt.figure(figsize=(10, 5))\n",
        "plt.plot(x_train.numpy(), y_train.numpy(), 'ro', label='Original data')\n",
        "plt.plot(x_train.numpy(), predict, 'bo', label='Predicted Data')\n",
        "plt.plot(x_train.numpy(), predict, label='Fitting Line')\n",
        "# 显示图例\n",
        "plt.legend()\n",
        "plt.show()\n"
      ],
      "metadata": {
        "colab": {
          "base_uri": "https://localhost:8080/",
          "height": 445
        },
        "id": "Rp4Wr6BN9Eqs",
        "outputId": "78a74fa4-7551-439f-d145-68c104a987cd"
      },
      "execution_count": 37,
      "outputs": [
        {
          "output_type": "display_data",
          "data": {
            "text/plain": [
              "<Figure size 1000x500 with 1 Axes>"
            ],
            "image/png": "[encoded data removed]"
          },
          "metadata": {}
        }
      ]
    },
    {
      "cell_type": "code",
      "source": [],
      "metadata": {
        "id": "yw94gWSuAsOe"
      },
      "execution_count": null,
      "outputs": []
    },
    {
      "cell_type": "markdown",
      "source": [
        "### Calculate R2 Score"
      ],
      "metadata": {
        "id": "78F4B_AM_Eye"
      }
    },
    {
      "cell_type": "code",
      "source": [
        "from sklearn.metrics import r2_score"
      ],
      "metadata": {
        "id": "Un0Q0oBk-I7M"
      },
      "execution_count": 39,
      "outputs": []
    },
    {
      "cell_type": "code",
      "source": [
        "y_train"
      ],
      "metadata": {
        "colab": {
          "base_uri": "https://localhost:8080/"
        },
        "id": "uTVc6KKY-Wco",
        "outputId": "92317bdd-e389-497a-dce0-b9e0605b60fa"
      },
      "execution_count": 47,
      "outputs": [
        {
          "output_type": "execute_result",
          "data": {
            "text/plain": [
              "tensor([[1.7000],\n",
              "        [2.7600],\n",
              "        [2.0900],\n",
              "        [3.1900],\n",
              "        [1.6940],\n",
              "        [1.5730],\n",
              "        [3.3660],\n",
              "        [2.5960],\n",
              "        [2.5300],\n",
              "        [1.2210],\n",
              "        [2.8270],\n",
              "        [3.4650],\n",
              "        [1.6500],\n",
              "        [2.9040],\n",
              "        [1.3000]])"
            ]
          },
          "metadata": {},
          "execution_count": 47
        }
      ]
    },
    {
      "cell_type": "code",
      "source": [
        "y_true = y_train.numpy()\n",
        "y_true"
      ],
      "metadata": {
        "colab": {
          "base_uri": "https://localhost:8080/"
        },
        "id": "s3l0Z1WU-Zgg",
        "outputId": "7ca7bc56-f545-4680-d60c-8a4d4cad895b"
      },
      "execution_count": 48,
      "outputs": [
        {
          "output_type": "execute_result",
          "data": {
            "text/plain": [
              "array([[1.7  ],\n",
              "       [2.76 ],\n",
              "       [2.09 ],\n",
              "       [3.19 ],\n",
              "       [1.694],\n",
              "       [1.573],\n",
              "       [3.366],\n",
              "       [2.596],\n",
              "       [2.53 ],\n",
              "       [1.221],\n",
              "       [2.827],\n",
              "       [3.465],\n",
              "       [1.65 ],\n",
              "       [2.904],\n",
              "       [1.3  ]], dtype=float32)"
            ]
          },
          "metadata": {},
          "execution_count": 48
        }
      ]
    },
    {
      "cell_type": "code",
      "source": [
        "y_pred = predict\n",
        "y_pred"
      ],
      "metadata": {
        "colab": {
          "base_uri": "https://localhost:8080/"
        },
        "id": "aZi0-skZ-Q9E",
        "outputId": "b5be0baf-422c-49f8-e9b7-702fe49e02a7"
      },
      "execution_count": 49,
      "outputs": [
        {
          "output_type": "execute_result",
          "data": {
            "text/plain": [
              "array([[1.1383425 ],\n",
              "       [1.5648493 ],\n",
              "       [1.9913559 ],\n",
              "       [2.4605134 ],\n",
              "       [2.5458145 ],\n",
              "       [1.4748951 ],\n",
              "       [3.6504672 ],\n",
              "       [2.25579   ],\n",
              "       [2.8017187 ],\n",
              "       [0.69904053],\n",
              "       [2.5892406 ],\n",
              "       [4.0428534 ],\n",
              "       [1.9188497 ],\n",
              "       [2.9595263 ],\n",
              "       [1.0607958 ]], dtype=float32)"
            ]
          },
          "metadata": {},
          "execution_count": 49
        }
      ]
    },
    {
      "cell_type": "code",
      "source": [
        "r2_score(y_true, y_pred)"
      ],
      "metadata": {
        "colab": {
          "base_uri": "https://localhost:8080/"
        },
        "id": "S5LHKzkG-JDf",
        "outputId": "6ea4871f-1be7-458b-8d56-46c5865aec2e"
      },
      "execution_count": 50,
      "outputs": [
        {
          "output_type": "execute_result",
          "data": {
            "text/plain": [
              "0.4990324937155268"
            ]
          },
          "metadata": {},
          "execution_count": 50
        }
      ]
    },
    {
      "cell_type": "markdown",
      "source": [
        "### Save the model"
      ],
      "metadata": {
        "id": "N0N29zgY_Bnh"
      }
    },
    {
      "cell_type": "code",
      "source": [
        "# 保存模型\n",
        "torch.save(model.state_dict(), './linear.pth')"
      ],
      "metadata": {
        "id": "tb0BzE5b9Svx"
      },
      "execution_count": 38,
      "outputs": []
    },
    {
      "cell_type": "code",
      "source": [],
      "metadata": {
        "id": "i-jgvqEc94zj"
      },
      "execution_count": null,
      "outputs": []
    },
    {
      "cell_type": "markdown",
      "source": [
        "### Load the Saved Model"
      ],
      "metadata": {
        "id": "d92EoXaK_U3c"
      }
    },
    {
      "cell_type": "code",
      "source": [
        "torch.load('./linear.pth')"
      ],
      "metadata": {
        "colab": {
          "base_uri": "https://localhost:8080/"
        },
        "id": "uIkmGfyUCG_h",
        "outputId": "f832b5c3-2daf-4067-93c9-50e46409d949"
      },
      "execution_count": 61,
      "outputs": [
        {
          "output_type": "execute_result",
          "data": {
            "text/plain": [
              "OrderedDict([('linear.weight', tensor([[0.3877]])),\n",
              "             ('linear.bias', tensor([-0.1412]))])"
            ]
          },
          "metadata": {},
          "execution_count": 61
        }
      ]
    },
    {
      "cell_type": "code",
      "source": [
        "model2 = linearRegression()\n",
        "model2.load_state_dict(torch.load('./linear.pth'))\n",
        "model2"
      ],
      "metadata": {
        "colab": {
          "base_uri": "https://localhost:8080/"
        },
        "id": "CWH6CZ8C_Wg7",
        "outputId": "6494ef93-840e-4981-9fb4-299115b930ec"
      },
      "execution_count": 62,
      "outputs": [
        {
          "output_type": "execute_result",
          "data": {
            "text/plain": [
              "linearRegression(\n",
              "  (linear): Linear(in_features=1, out_features=1, bias=True)\n",
              ")"
            ]
          },
          "metadata": {},
          "execution_count": 62
        }
      ]
    },
    {
      "cell_type": "code",
      "source": [
        "model2.eval()"
      ],
      "metadata": {
        "colab": {
          "base_uri": "https://localhost:8080/"
        },
        "id": "8MFWMbPaBmM7",
        "outputId": "fb389e07-8942-4984-f1e7-de76d8411d41"
      },
      "execution_count": 63,
      "outputs": [
        {
          "output_type": "execute_result",
          "data": {
            "text/plain": [
              "linearRegression(\n",
              "  (linear): Linear(in_features=1, out_features=1, bias=True)\n",
              ")"
            ]
          },
          "metadata": {},
          "execution_count": 63
        }
      ]
    },
    {
      "cell_type": "code",
      "source": [],
      "metadata": {
        "id": "ctlQCkpdDDge"
      },
      "execution_count": null,
      "outputs": []
    },
    {
      "cell_type": "markdown",
      "source": [
        "### Predict on Test Data"
      ],
      "metadata": {
        "id": "RteCMjRIDBQO"
      }
    },
    {
      "cell_type": "code",
      "source": [
        "x_test = torch.tensor([[2.103]], dtype=torch.float32)\n",
        "x_test"
      ],
      "metadata": {
        "colab": {
          "base_uri": "https://localhost:8080/"
        },
        "id": "RbbXXhaPBSX-",
        "outputId": "b2e62979-84be-43fc-d5c0-5ca9838917fb"
      },
      "execution_count": 72,
      "outputs": [
        {
          "output_type": "execute_result",
          "data": {
            "text/plain": [
              "tensor([[2.1030]])"
            ]
          },
          "metadata": {},
          "execution_count": 72
        }
      ]
    },
    {
      "cell_type": "code",
      "source": [
        "type(x_test)"
      ],
      "metadata": {
        "colab": {
          "base_uri": "https://localhost:8080/"
        },
        "id": "Y_06aVg-C3_v",
        "outputId": "b998cb41-0656-48ba-8a88-44bceec21ad6"
      },
      "execution_count": 73,
      "outputs": [
        {
          "output_type": "execute_result",
          "data": {
            "text/plain": [
              "torch.Tensor"
            ]
          },
          "metadata": {},
          "execution_count": 73
        }
      ]
    },
    {
      "cell_type": "code",
      "source": [
        "with torch.no_grad():\n",
        "    predict2 = model(x_test)\n",
        "predict2 = predict2.data.numpy()\n",
        "predict2"
      ],
      "metadata": {
        "colab": {
          "base_uri": "https://localhost:8080/"
        },
        "id": "_uSZ0Q-RCT-I",
        "outputId": "b15b48d3-ab19-4830-9d63-81c79cc5b60a"
      },
      "execution_count": 74,
      "outputs": [
        {
          "output_type": "execute_result",
          "data": {
            "text/plain": [
              "array([[0.6742255]], dtype=float32)"
            ]
          },
          "metadata": {},
          "execution_count": 74
        }
      ]
    },
    {
      "cell_type": "code",
      "source": [],
      "metadata": {
        "id": "_SAV9q33ChAR"
      },
      "execution_count": null,
      "outputs": []
    }
  ]
}